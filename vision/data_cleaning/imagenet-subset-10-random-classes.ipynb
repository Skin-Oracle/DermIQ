{
 "cells": [
  {
   "cell_type": "code",
   "execution_count": 1,
   "id": "4d1067a0",
   "metadata": {
    "execution": {
     "iopub.execute_input": "2024-02-12T02:20:49.387726Z",
     "iopub.status.busy": "2024-02-12T02:20:49.387265Z",
     "iopub.status.idle": "2024-02-12T02:20:49.397887Z",
     "shell.execute_reply": "2024-02-12T02:20:49.396780Z"
    },
    "papermill": {
     "duration": 0.017843,
     "end_time": "2024-02-12T02:20:49.400515",
     "exception": false,
     "start_time": "2024-02-12T02:20:49.382672",
     "status": "completed"
    },
    "tags": []
   },
   "outputs": [],
   "source": [
    "import os\n",
    "import shutil\n",
    "from tqdm import tqdm\n",
    "import random\n",
    "import numpy as np\n",
    "\n",
    "train_path = \"/kaggle/input/imagenet-object-localization-challenge/ILSVRC/Data/CLS-LOC/train\""
   ]
  },
  {
   "cell_type": "code",
   "execution_count": 2,
   "id": "02d62caa",
   "metadata": {
    "execution": {
     "iopub.execute_input": "2024-02-12T02:20:49.406216Z",
     "iopub.status.busy": "2024-02-12T02:20:49.405749Z",
     "iopub.status.idle": "2024-02-12T02:23:47.481514Z",
     "shell.execute_reply": "2024-02-12T02:23:47.480306Z"
    },
    "papermill": {
     "duration": 178.086362,
     "end_time": "2024-02-12T02:23:47.488930",
     "exception": false,
     "start_time": "2024-02-12T02:20:49.402568",
     "status": "completed"
    },
    "tags": []
   },
   "outputs": [
    {
     "name": "stderr",
     "output_type": "stream",
     "text": [
      "100%|██████████| 10/10 [01:50<00:00, 11.09s/it]\n"
     ]
    },
    {
     "data": {
      "text/plain": [
       "'/kaggle/working/imagenet_subset.zip'"
      ]
     },
     "execution_count": 2,
     "metadata": {},
     "output_type": "execute_result"
    }
   ],
   "source": [
    "ex_per_class = 10\n",
    "output_folder = \"/kaggle/working/imagenet_1pct\"\n",
    "\n",
    "\n",
    "classes = np.random.choice(os.listdir(train_path), 10, replace=False)\n",
    "\n",
    "\n",
    "for folder in tqdm(classes):\n",
    "    os.makedirs(os.path.join(output_folder, folder))\n",
    "    folder_path = os.path.join(train_path, folder)\n",
    "    folder_files = os.listdir(folder_path)\n",
    "    \n",
    "    # Select random images\n",
    "    selected_files = folder_files # np.random.choice(folder_files, ex_per_class, replace=False)\n",
    "    \n",
    "    # Copy selected files to output folder\n",
    "    for filename in selected_files:\n",
    "        shutil.copy2(\n",
    "            os.path.join(folder_path, filename),\n",
    "            os.path.join(output_folder, folder),\n",
    "        )\n",
    "        \n",
    "shutil.make_archive(\"imagenet_subset\", 'zip', output_folder)"
   ]
  }
 ],
 "metadata": {
  "kaggle": {
   "accelerator": "none",
   "dataSources": [
    {
     "databundleVersionId": 4225553,
     "sourceId": 6799,
     "sourceType": "competition"
    }
   ],
   "dockerImageVersionId": 30357,
   "isGpuEnabled": false,
   "isInternetEnabled": true,
   "language": "python",
   "sourceType": "notebook"
  },
  "kernelspec": {
   "display_name": "Python 3",
   "language": "python",
   "name": "python3"
  },
  "language_info": {
   "codemirror_mode": {
    "name": "ipython",
    "version": 3
   },
   "file_extension": ".py",
   "mimetype": "text/x-python",
   "name": "python",
   "nbconvert_exporter": "python",
   "pygments_lexer": "ipython3",
   "version": "3.7.12"
  },
  "papermill": {
   "default_parameters": {},
   "duration": 189.142992,
   "end_time": "2024-02-12T02:23:48.273208",
   "environment_variables": {},
   "exception": null,
   "input_path": "__notebook__.ipynb",
   "output_path": "__notebook__.ipynb",
   "parameters": {},
   "start_time": "2024-02-12T02:20:39.130216",
   "version": "2.3.4"
  }
 },
 "nbformat": 4,
 "nbformat_minor": 5
}
