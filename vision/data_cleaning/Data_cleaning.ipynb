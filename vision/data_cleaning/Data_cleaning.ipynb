{
 "cells": [
  {
   "cell_type": "code",
   "execution_count": null,
   "metadata": {},
   "outputs": [],
   "source": [
    "import pandas as pd\n",
    "import os\n",
    "import subprocess"
   ]
  },
  {
   "cell_type": "code",
   "execution_count": null,
   "metadata": {},
   "outputs": [],
   "source": [
    "df = pd.read_csv('fitzpatrick17k.csv')\n",
    "\n",
    "print(df.head()) "
   ]
  },
  {
   "cell_type": "code",
   "execution_count": null,
   "metadata": {},
   "outputs": [],
   "source": [
    "df.dropna(subset=['url'], inplace=True)"
   ]
  },
  {
   "cell_type": "code",
   "execution_count": null,
   "metadata": {},
   "outputs": [],
   "source": [
    "df.shape"
   ]
  },
  {
   "cell_type": "code",
   "execution_count": null,
   "metadata": {},
   "outputs": [],
   "source": [
    "#unique labels\n",
    "\n",
    "unique_labels = df['label'].unique()\n",
    "\n",
    "print(len(unique_labels))\n",
    "print(unique_labels)\n"
   ]
  },
  {
   "cell_type": "code",
   "execution_count": null,
   "metadata": {},
   "outputs": [],
   "source": [
    "unique_labels =  [label.strip().replace(\" \", \"_\") for label in unique_labels]\n",
    "unique_labels"
   ]
  },
  {
   "cell_type": "code",
   "execution_count": null,
   "metadata": {},
   "outputs": [],
   "source": [
    "base_directory  = os.getcwd() \n",
    "image_dir = os.path.join(base_directory, \"image_dir\")\n",
    "\n",
    "for label in unique_labels:\n",
    "    label_directory = os.path.join(image_dir, label)\n",
    "    \n",
    "    # Check if the directory already exists\n",
    "    if not os.path.exists(label_directory):\n",
    "        os.makedirs(label_directory)\n"
   ]
  },
  {
   "cell_type": "code",
   "execution_count": null,
   "metadata": {},
   "outputs": [],
   "source": [
    "counter_lables = {key: int(0) for key in unique_labels}\n",
    "counter_lables"
   ]
  },
  {
   "cell_type": "code",
   "execution_count": null,
   "metadata": {},
   "outputs": [],
   "source": [
    "for index, row in df.iterrows():\n",
    "    label = row['label']\n",
    "    label = label.strip().replace(\" \", \"_\")\n",
    "    url = row['url']\n",
    "    if (url == \"\"):\n",
    "        continue\n",
    "    num = int(counter_lables[label])\n",
    "    print(label) \n",
    "    print(url)\n",
    "    print(os.path.join(image_dir, f\"{label}/{num}.jpg\"))\n",
    "    subprocess.run([\"curl\", url, \"-o\", os.path.join(image_dir, f\"{label}/{num}.jpg\")])\n",
    "    counter_lables[label] = counter_lables[label] + 1\n",
    "    "
   ]
  },
  {
   "cell_type": "code",
   "execution_count": null,
   "metadata": {},
   "outputs": [],
   "source": [
    "\n",
    "# import torch\n",
    "# torch.device(\"mps\") "
   ]
  },
  {
   "cell_type": "code",
   "execution_count": null,
   "metadata": {},
   "outputs": [],
   "source": [
    "# x = torch.rand(5, 3)\n",
    "# print(x)"
   ]
  }
 ],
 "metadata": {
  "kernelspec": {
   "display_name": "TorchEnv",
   "language": "python",
   "name": "python3"
  },
  "language_info": {
   "codemirror_mode": {
    "name": "ipython",
    "version": 3
   },
   "file_extension": ".py",
   "mimetype": "text/x-python",
   "name": "python",
   "nbconvert_exporter": "python",
   "pygments_lexer": "ipython3",
   "version": "3.9.6"
  }
 },
 "nbformat": 4,
 "nbformat_minor": 2
}
