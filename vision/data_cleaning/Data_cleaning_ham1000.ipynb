{
 "cells": [
  {
   "cell_type": "code",
   "execution_count": 1,
   "metadata": {},
   "outputs": [],
   "source": [
    "import pandas as pd\n",
    "import shutil\n",
    "import os.path\n",
    "import subprocess\n",
    "from sklearn.model_selection import train_test_split, StratifiedShuffleSplit\n"
   ]
  },
  {
   "cell_type": "code",
   "execution_count": 2,
   "metadata": {},
   "outputs": [],
   "source": [
    "file_path = \"/Users/parsahafezi/Workspace/DermaQ/Skin-Oracle/vision/dataverse_files/HAM10000_metadata\""
   ]
  },
  {
   "cell_type": "code",
   "execution_count": 3,
   "metadata": {},
   "outputs": [
    {
     "data": {
      "text/html": [
       "<div>\n",
       "<style scoped>\n",
       "    .dataframe tbody tr th:only-of-type {\n",
       "        vertical-align: middle;\n",
       "    }\n",
       "\n",
       "    .dataframe tbody tr th {\n",
       "        vertical-align: top;\n",
       "    }\n",
       "\n",
       "    .dataframe thead th {\n",
       "        text-align: right;\n",
       "    }\n",
       "</style>\n",
       "<table border=\"1\" class=\"dataframe\">\n",
       "  <thead>\n",
       "    <tr style=\"text-align: right;\">\n",
       "      <th></th>\n",
       "      <th>lesion_id</th>\n",
       "      <th>image_id</th>\n",
       "      <th>dx</th>\n",
       "      <th>dx_type</th>\n",
       "      <th>age</th>\n",
       "      <th>sex</th>\n",
       "      <th>localization</th>\n",
       "      <th>dataset</th>\n",
       "    </tr>\n",
       "  </thead>\n",
       "  <tbody>\n",
       "    <tr>\n",
       "      <th>0</th>\n",
       "      <td>HAM_0000118</td>\n",
       "      <td>ISIC_0027419</td>\n",
       "      <td>bkl</td>\n",
       "      <td>histo</td>\n",
       "      <td>80.0</td>\n",
       "      <td>male</td>\n",
       "      <td>scalp</td>\n",
       "      <td>vidir_modern</td>\n",
       "    </tr>\n",
       "    <tr>\n",
       "      <th>1</th>\n",
       "      <td>HAM_0000118</td>\n",
       "      <td>ISIC_0025030</td>\n",
       "      <td>bkl</td>\n",
       "      <td>histo</td>\n",
       "      <td>80.0</td>\n",
       "      <td>male</td>\n",
       "      <td>scalp</td>\n",
       "      <td>vidir_modern</td>\n",
       "    </tr>\n",
       "    <tr>\n",
       "      <th>2</th>\n",
       "      <td>HAM_0002730</td>\n",
       "      <td>ISIC_0026769</td>\n",
       "      <td>bkl</td>\n",
       "      <td>histo</td>\n",
       "      <td>80.0</td>\n",
       "      <td>male</td>\n",
       "      <td>scalp</td>\n",
       "      <td>vidir_modern</td>\n",
       "    </tr>\n",
       "    <tr>\n",
       "      <th>3</th>\n",
       "      <td>HAM_0002730</td>\n",
       "      <td>ISIC_0025661</td>\n",
       "      <td>bkl</td>\n",
       "      <td>histo</td>\n",
       "      <td>80.0</td>\n",
       "      <td>male</td>\n",
       "      <td>scalp</td>\n",
       "      <td>vidir_modern</td>\n",
       "    </tr>\n",
       "    <tr>\n",
       "      <th>4</th>\n",
       "      <td>HAM_0001466</td>\n",
       "      <td>ISIC_0031633</td>\n",
       "      <td>bkl</td>\n",
       "      <td>histo</td>\n",
       "      <td>75.0</td>\n",
       "      <td>male</td>\n",
       "      <td>ear</td>\n",
       "      <td>vidir_modern</td>\n",
       "    </tr>\n",
       "  </tbody>\n",
       "</table>\n",
       "</div>"
      ],
      "text/plain": [
       "     lesion_id      image_id   dx dx_type   age   sex localization  \\\n",
       "0  HAM_0000118  ISIC_0027419  bkl   histo  80.0  male        scalp   \n",
       "1  HAM_0000118  ISIC_0025030  bkl   histo  80.0  male        scalp   \n",
       "2  HAM_0002730  ISIC_0026769  bkl   histo  80.0  male        scalp   \n",
       "3  HAM_0002730  ISIC_0025661  bkl   histo  80.0  male        scalp   \n",
       "4  HAM_0001466  ISIC_0031633  bkl   histo  75.0  male          ear   \n",
       "\n",
       "        dataset  \n",
       "0  vidir_modern  \n",
       "1  vidir_modern  \n",
       "2  vidir_modern  \n",
       "3  vidir_modern  \n",
       "4  vidir_modern  "
      ]
     },
     "execution_count": 3,
     "metadata": {},
     "output_type": "execute_result"
    }
   ],
   "source": [
    "skin_df = pd.read_csv(file_path)\n",
    "skin_df.head()\n"
   ]
  },
  {
   "cell_type": "code",
   "execution_count": 4,
   "metadata": {},
   "outputs": [
    {
     "data": {
      "text/plain": [
       "lesion_id       10015\n",
       "image_id        10015\n",
       "dx              10015\n",
       "dx_type         10015\n",
       "age              9958\n",
       "sex             10015\n",
       "localization    10015\n",
       "dataset         10015\n",
       "dtype: int64"
      ]
     },
     "execution_count": 4,
     "metadata": {},
     "output_type": "execute_result"
    }
   ],
   "source": [
    "skin_df.count()"
   ]
  },
  {
   "cell_type": "code",
   "execution_count": null,
   "metadata": {},
   "outputs": [],
   "source": []
  },
  {
   "cell_type": "code",
   "execution_count": 5,
   "metadata": {},
   "outputs": [],
   "source": [
    "conditions = list(skin_df['dx'].unique())"
   ]
  },
  {
   "cell_type": "code",
   "execution_count": 7,
   "metadata": {},
   "outputs": [],
   "source": [
    "\n",
    "for index, row in skin_df.iterrows():\n",
    "    image_id = row['image_id']\n",
    "    dx_type = row['dx']\n",
    "\n",
    "    sp_base = '/Users/parsahafezi/Workspace/DermaQ/Skin-Oracle/vision/dataverse_files/HAM10000_all'\n",
    "    dp_base = '/Users/parsahafezi/Workspace/DermaQ/Skin-Oracle/vision/dataverse_files/HAM10000_training'\n",
    "\n",
    "    sp = os.path.join(sp_base, image_id+\".jpg\")\n",
    "    dp = os.path.join(dp_base, dx_type, image_id+\".jpg\")\n",
    "    \n",
    "    if os.path.exists(sp):\n",
    "        \n",
    "        sub_cat_path = os.path.join(dp_base, dx_type)\n",
    "        if not os.path.exists(sub_cat_path):\n",
    "            os.makedirs(sub_cat_path)\n",
    "        \n",
    "        # Move the image\n",
    "\n",
    "        shutil.move(sp, dp)\n",
    "    else:\n",
    "        # Print the name of the non-existing file\n",
    "        print(f\"File not found: {sp}\")\n",
    "    "
   ]
  },
  {
   "cell_type": "code",
   "execution_count": 89,
   "metadata": {},
   "outputs": [],
   "source": [
    "# stratified_splitter = StratifiedShuffleSplit(n_splits=1, test_size=0.2, random_state=42)\n",
    "\n",
    "# for train_index, test_index in stratified_splitter.split(skin_df, skin_df['dx']):\n",
    "#     train_set = skin_df.loc[train_index]\n",
    "#     test_set = skin_df.loc[test_index]"
   ]
  },
  {
   "cell_type": "code",
   "execution_count": 6,
   "metadata": {},
   "outputs": [
    {
     "ename": "NameError",
     "evalue": "name 'train_set' is not defined",
     "output_type": "error",
     "traceback": [
      "\u001b[0;31m---------------------------------------------------------------------------\u001b[0m",
      "\u001b[0;31mNameError\u001b[0m                                 Traceback (most recent call last)",
      "Cell \u001b[0;32mIn[6], line 1\u001b[0m\n\u001b[0;32m----> 1\u001b[0m \u001b[43mtrain_set\u001b[49m\n",
      "\u001b[0;31mNameError\u001b[0m: name 'train_set' is not defined"
     ]
    }
   ],
   "source": [
    "train_set"
   ]
  },
  {
   "cell_type": "code",
   "execution_count": 91,
   "metadata": {},
   "outputs": [],
   "source": [
    "for index, row in train_set.iterrows():\n",
    "    image_id = row['image_id']\n",
    "    dx_type = row['dx']\n",
    "\n",
    "    sp_base = '/Users/parsahafezi/Workspace/DermaQ/Skin-Oracle/vision/dataverse_files/HAM10000_all'\n",
    "    dp_base = '/Users/parsahafezi/Workspace/DermaQ/Skin-Oracle/vision/dataverse_files/HAM10000_training'\n",
    "\n",
    "    sp = os.path.join(sp_base, image_id+\".jpg\")\n",
    "    dp = os.path.join(dp_base, dx_type, image_id+\".jpg\")\n",
    "    \n",
    "    if os.path.exists(sp):\n",
    "        \n",
    "        sub_cat_path = os.path.join(dp_base, dx_type)\n",
    "        if not os.path.exists(sub_cat_path):\n",
    "            os.makedirs(sub_cat_path)\n",
    "        \n",
    "        # Move the image\n",
    "\n",
    "        shutil.move(sp, dp)\n",
    "    else:\n",
    "        # Print the name of the non-existing file\n",
    "        print(f\"File not found: {sp}\")\n",
    "    "
   ]
  },
  {
   "cell_type": "code",
   "execution_count": 92,
   "metadata": {},
   "outputs": [],
   "source": [
    "for index, row in test_set.iterrows():\n",
    "    image_id = row['image_id']\n",
    "    dx_type = row['dx']\n",
    "\n",
    "    sp_base = '/Users/parsahafezi/Workspace/DermaQ/Skin-Oracle/vision/dataverse_files/HAM10000_all'\n",
    "    dp_base = '/Users/parsahafezi/Workspace/DermaQ/Skin-Oracle/vision/dataverse_files/HAM10000_test'\n",
    "\n",
    "    sp = os.path.join(sp_base, image_id+\".jpg\")\n",
    "    dp = os.path.join(dp_base, dx_type, image_id+\".jpg\")\n",
    "    \n",
    "    if os.path.exists(sp):\n",
    "        \n",
    "        sub_cat_path = os.path.join(dp_base, dx_type)\n",
    "        if not os.path.exists(sub_cat_path):\n",
    "            os.makedirs(sub_cat_path)\n",
    "        \n",
    "        # Move the image\n",
    "\n",
    "        shutil.move(sp, dp)\n",
    "    else:\n",
    "        # Print the name of the non-existing file\n",
    "        print(f\"File not found: {sp}\")"
   ]
  },
  {
   "cell_type": "code",
   "execution_count": 93,
   "metadata": {},
   "outputs": [
    {
     "data": {
      "text/plain": [
       "dx\n",
       "nv       5364\n",
       "mel       890\n",
       "bkl       879\n",
       "bcc       411\n",
       "akiec     262\n",
       "vasc      114\n",
       "df         92\n",
       "Name: count, dtype: int64"
      ]
     },
     "execution_count": 93,
     "metadata": {},
     "output_type": "execute_result"
    }
   ],
   "source": [
    "train_set['dx'].value_counts()\n"
   ]
  },
  {
   "cell_type": "code",
   "execution_count": 94,
   "metadata": {},
   "outputs": [
    {
     "data": {
      "text/plain": [
       "dx\n",
       "nv       1341\n",
       "mel       223\n",
       "bkl       220\n",
       "bcc       103\n",
       "akiec      65\n",
       "vasc       28\n",
       "df         23\n",
       "Name: count, dtype: int64"
      ]
     },
     "execution_count": 94,
     "metadata": {},
     "output_type": "execute_result"
    }
   ],
   "source": [
    "test_set['dx'].value_counts()\n"
   ]
  }
 ],
 "metadata": {
  "kernelspec": {
   "display_name": "DermaQEnv",
   "language": "python",
   "name": "python3"
  },
  "language_info": {
   "codemirror_mode": {
    "name": "ipython",
    "version": 3
   },
   "file_extension": ".py",
   "mimetype": "text/x-python",
   "name": "python",
   "nbconvert_exporter": "python",
   "pygments_lexer": "ipython3",
   "version": "3.9.6"
  }
 },
 "nbformat": 4,
 "nbformat_minor": 2
}
